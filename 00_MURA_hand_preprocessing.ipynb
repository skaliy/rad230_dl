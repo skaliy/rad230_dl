{
 "cells": [
  {
   "cell_type": "code",
   "execution_count": 1,
   "id": "acb52f55-81b4-4197-9cc7-caeb3dbbff3f",
   "metadata": {},
   "outputs": [],
   "source": [
    "#!pip install fastai --upgrade"
   ]
  },
  {
   "cell_type": "code",
   "execution_count": null,
   "id": "da999747-3f9e-4b1b-b271-200de690e0a5",
   "metadata": {},
   "outputs": [],
   "source": [
    "from google.colab import drive\n",
    "drive.mount('/content/gdrive')"
   ]
  },
  {
   "cell_type": "code",
   "execution_count": null,
   "id": "7b4e6825-110d-4eba-b67d-1f5a8159b948",
   "metadata": {},
   "outputs": [],
   "source": [
    "from fastai.vision.all import *\n",
    "from glob import glob"
   ]
  },
  {
   "cell_type": "code",
   "execution_count": 2,
   "id": "7a520cf6-1186-4609-b916-4cb0c2c14905",
   "metadata": {},
   "outputs": [],
   "source": [
    "def get_subject_ids(filename_list): \n",
    "    return [filename.split('/')[-3].split('patient')[-1] for filename in filename_list]\n",
    "\n",
    "def get_study_labels(filename_list): \n",
    "    return [filename.split('/')[-2].split('_')[-1] for filename in filename_list]"
   ]
  },
  {
   "cell_type": "code",
   "execution_count": 3,
   "id": "2825a724-8345-4945-a9a7-4d8f8df1b248",
   "metadata": {},
   "outputs": [],
   "source": [
    "def get_study_id(filename_list): \n",
    "    return [filename.split('/')[-2].split('_')[0] for filename in filename_list]"
   ]
  },
  {
   "cell_type": "code",
   "execution_count": 4,
   "id": "56ad6ef9-14dc-4999-841f-b1b95e2c5dbf",
   "metadata": {},
   "outputs": [],
   "source": [
    "#NB_DIR = Path.cwd()\n",
    "#STUDY_DIRECTORY = NB_DIR/'..'/'data'/'MURA_sample' \n",
    "\n",
    "STUDY_DIRECTORY =  Path('gdrive/My Drive/MURA_sample/') \n",
    "category = 'XR_HAND'"
   ]
  },
  {
   "cell_type": "markdown",
   "id": "e6c8b634-a864-4cb8-bde7-d4cda46ed046",
   "metadata": {},
   "source": [
    "## Get training data"
   ]
  },
  {
   "cell_type": "code",
   "execution_count": 5,
   "id": "e3bb0547-d08c-4d32-91d6-7aa84b0975b7",
   "metadata": {},
   "outputs": [
    {
     "data": {
      "text/plain": [
       "5543"
      ]
     },
     "execution_count": 5,
     "metadata": {},
     "output_type": "execute_result"
    }
   ],
   "source": [
    "train_data = sorted(glob(str(STUDY_DIRECTORY/'train'/category/'patient*'/'study*'/'*.png')))\n",
    "len(train_data)"
   ]
  },
  {
   "cell_type": "code",
   "execution_count": 6,
   "id": "96535f3e-811d-45ad-af5e-673dd16b5f59",
   "metadata": {},
   "outputs": [
    {
     "data": {
      "text/plain": [
       "'/home/sathiesh/machine_learning/rad230_dl/../data/MURA_sample/train/XR_HAND/patient00008/study1_positive/image1.png'"
      ]
     },
     "execution_count": 6,
     "metadata": {},
     "output_type": "execute_result"
    }
   ],
   "source": [
    "train_data[0]"
   ]
  },
  {
   "cell_type": "code",
   "execution_count": 7,
   "id": "c22ab871-abf3-4072-b4c8-d353c8399f2b",
   "metadata": {},
   "outputs": [
    {
     "data": {
      "text/plain": [
       "('00008', 'positive', 'study1')"
      ]
     },
     "execution_count": 7,
     "metadata": {},
     "output_type": "execute_result"
    }
   ],
   "source": [
    "train_subject_ids = get_subject_ids(train_data)\n",
    "train_labels = get_study_labels(train_data)\n",
    "train_study_ids = get_study_id(train_data)\n",
    "train_subject_ids[0], train_labels[0], train_study_ids[0]"
   ]
  },
  {
   "cell_type": "markdown",
   "id": "fa2ff9a6-d784-4293-919c-55ac017a6190",
   "metadata": {},
   "source": [
    "## Get validation data"
   ]
  },
  {
   "cell_type": "code",
   "execution_count": 8,
   "id": "6ea8a8d3-31cc-4d05-8dbf-52c84b2c6125",
   "metadata": {},
   "outputs": [
    {
     "data": {
      "text/plain": [
       "460"
      ]
     },
     "execution_count": 8,
     "metadata": {},
     "output_type": "execute_result"
    }
   ],
   "source": [
    "valid_data = sorted(glob(str(STUDY_DIRECTORY/'valid'/category/'patient*'/'study*'/'*.png')))\n",
    "len(valid_data)"
   ]
  },
  {
   "cell_type": "code",
   "execution_count": 9,
   "id": "63606d32-5b73-4db9-84cd-ea1a3bd0c5a4",
   "metadata": {},
   "outputs": [
    {
     "data": {
      "text/plain": [
       "'/home/sathiesh/machine_learning/rad230_dl/../data/MURA_sample/valid/XR_HAND/patient11190/study1_negative/image1.png'"
      ]
     },
     "execution_count": 9,
     "metadata": {},
     "output_type": "execute_result"
    }
   ],
   "source": [
    "valid_data[0]"
   ]
  },
  {
   "cell_type": "code",
   "execution_count": 10,
   "id": "c86c427a-4fb5-470b-b390-60fbe8ac1be9",
   "metadata": {},
   "outputs": [
    {
     "data": {
      "text/plain": [
       "('11190', 'negative', 'study1')"
      ]
     },
     "execution_count": 10,
     "metadata": {},
     "output_type": "execute_result"
    }
   ],
   "source": [
    "valid_subject_ids = get_subject_ids(valid_data)\n",
    "valid_labels = get_study_labels(valid_data)\n",
    "valid_study_ids = get_study_id(valid_data)\n",
    "valid_subject_ids[0], valid_labels[0], valid_study_ids[0]"
   ]
  },
  {
   "cell_type": "markdown",
   "id": "b708cb5b-f41d-4d23-af5b-c48b5b505956",
   "metadata": {},
   "source": [
    "## Create dataframe"
   ]
  },
  {
   "cell_type": "code",
   "execution_count": 11,
   "id": "e7b3815b-ff6f-4faf-84a3-90f6cde7ba34",
   "metadata": {},
   "outputs": [],
   "source": [
    "columns=['img_path', 'subject_id', 'study_id', 'label']"
   ]
  },
  {
   "cell_type": "code",
   "execution_count": 12,
   "id": "40ae4838-9e0f-419d-b22c-0315c32b60ef",
   "metadata": {},
   "outputs": [],
   "source": [
    "df_train = pd.DataFrame(list(zip(train_data, train_subject_ids, train_study_ids, train_labels)), columns=columns)\n",
    "df_train['is_valid'] = False"
   ]
  },
  {
   "cell_type": "code",
   "execution_count": 13,
   "id": "f9d22a96-99cc-4715-ad5b-dfc3455488f3",
   "metadata": {},
   "outputs": [],
   "source": [
    "df_val = pd.DataFrame(list(zip(valid_data, valid_subject_ids, valid_study_ids, valid_labels)), columns=columns)\n",
    "df_val['is_valid'] = True"
   ]
  },
  {
   "cell_type": "code",
   "execution_count": 14,
   "id": "ee2aebf8-e5f8-4f8f-b875-3de7159d0cf7",
   "metadata": {},
   "outputs": [],
   "source": [
    "#concatenate training and validation dataframes\n",
    "frames = [df_train, df_val]\n",
    "df = pd.concat(frames)\n",
    "df['study_id'] = df.subject_id + '_' + df.study_id"
   ]
  },
  {
   "cell_type": "code",
   "execution_count": 15,
   "id": "8a732c22-fe01-4fe2-b372-2c034f6ee6f5",
   "metadata": {},
   "outputs": [
    {
     "data": {
      "text/html": [
       "<div>\n",
       "<style scoped>\n",
       "    .dataframe tbody tr th:only-of-type {\n",
       "        vertical-align: middle;\n",
       "    }\n",
       "\n",
       "    .dataframe tbody tr th {\n",
       "        vertical-align: top;\n",
       "    }\n",
       "\n",
       "    .dataframe thead th {\n",
       "        text-align: right;\n",
       "    }\n",
       "</style>\n",
       "<table border=\"1\" class=\"dataframe\">\n",
       "  <thead>\n",
       "    <tr style=\"text-align: right;\">\n",
       "      <th></th>\n",
       "      <th>img_path</th>\n",
       "      <th>subject_id</th>\n",
       "      <th>study_id</th>\n",
       "      <th>label</th>\n",
       "      <th>is_valid</th>\n",
       "    </tr>\n",
       "  </thead>\n",
       "  <tbody>\n",
       "    <tr>\n",
       "      <th>0</th>\n",
       "      <td>/home/sathiesh/machine_learning/rad230_dl/../data/MURA_sample/train/XR_HAND/patient00008/study1_positive/image1.png</td>\n",
       "      <td>00008</td>\n",
       "      <td>00008_study1</td>\n",
       "      <td>positive</td>\n",
       "      <td>False</td>\n",
       "    </tr>\n",
       "    <tr>\n",
       "      <th>1</th>\n",
       "      <td>/home/sathiesh/machine_learning/rad230_dl/../data/MURA_sample/train/XR_HAND/patient00008/study1_positive/image2.png</td>\n",
       "      <td>00008</td>\n",
       "      <td>00008_study1</td>\n",
       "      <td>positive</td>\n",
       "      <td>False</td>\n",
       "    </tr>\n",
       "    <tr>\n",
       "      <th>2</th>\n",
       "      <td>/home/sathiesh/machine_learning/rad230_dl/../data/MURA_sample/train/XR_HAND/patient00008/study1_positive/image3.png</td>\n",
       "      <td>00008</td>\n",
       "      <td>00008_study1</td>\n",
       "      <td>positive</td>\n",
       "      <td>False</td>\n",
       "    </tr>\n",
       "    <tr>\n",
       "      <th>3</th>\n",
       "      <td>/home/sathiesh/machine_learning/rad230_dl/../data/MURA_sample/train/XR_HAND/patient00050/study1_negative/image1.png</td>\n",
       "      <td>00050</td>\n",
       "      <td>00050_study1</td>\n",
       "      <td>negative</td>\n",
       "      <td>False</td>\n",
       "    </tr>\n",
       "    <tr>\n",
       "      <th>4</th>\n",
       "      <td>/home/sathiesh/machine_learning/rad230_dl/../data/MURA_sample/train/XR_HAND/patient00050/study1_negative/image2.png</td>\n",
       "      <td>00050</td>\n",
       "      <td>00050_study1</td>\n",
       "      <td>negative</td>\n",
       "      <td>False</td>\n",
       "    </tr>\n",
       "  </tbody>\n",
       "</table>\n",
       "</div>"
      ],
      "text/plain": [
       "                                                                                                              img_path  \\\n",
       "0  /home/sathiesh/machine_learning/rad230_dl/../data/MURA_sample/train/XR_HAND/patient00008/study1_positive/image1.png   \n",
       "1  /home/sathiesh/machine_learning/rad230_dl/../data/MURA_sample/train/XR_HAND/patient00008/study1_positive/image2.png   \n",
       "2  /home/sathiesh/machine_learning/rad230_dl/../data/MURA_sample/train/XR_HAND/patient00008/study1_positive/image3.png   \n",
       "3  /home/sathiesh/machine_learning/rad230_dl/../data/MURA_sample/train/XR_HAND/patient00050/study1_negative/image1.png   \n",
       "4  /home/sathiesh/machine_learning/rad230_dl/../data/MURA_sample/train/XR_HAND/patient00050/study1_negative/image2.png   \n",
       "\n",
       "  subject_id      study_id     label  is_valid  \n",
       "0      00008  00008_study1  positive     False  \n",
       "1      00008  00008_study1  positive     False  \n",
       "2      00008  00008_study1  positive     False  \n",
       "3      00050  00050_study1  negative     False  \n",
       "4      00050  00050_study1  negative     False  "
      ]
     },
     "execution_count": 15,
     "metadata": {},
     "output_type": "execute_result"
    }
   ],
   "source": [
    "df.head()"
   ]
  },
  {
   "cell_type": "code",
   "execution_count": 16,
   "id": "a260eb3f-5c95-4bc7-b472-49065f59c53a",
   "metadata": {},
   "outputs": [],
   "source": [
    "df.to_csv('data.csv', index=False)"
   ]
  }
 ],
 "metadata": {
  "kernelspec": {
   "display_name": "Python 3 (ipykernel)",
   "language": "python",
   "name": "python3"
  },
  "language_info": {
   "codemirror_mode": {
    "name": "ipython",
    "version": 3
   },
   "file_extension": ".py",
   "mimetype": "text/x-python",
   "name": "python",
   "nbconvert_exporter": "python",
   "pygments_lexer": "ipython3",
   "version": "3.9.7"
  }
 },
 "nbformat": 4,
 "nbformat_minor": 5
}
